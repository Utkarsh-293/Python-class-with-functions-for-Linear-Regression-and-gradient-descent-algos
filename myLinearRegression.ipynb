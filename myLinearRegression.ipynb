{
 "cells": [
  {
   "cell_type": "code",
   "execution_count": 91,
   "id": "35b93d23",
   "metadata": {},
   "outputs": [],
   "source": [
    "import matplotlib.pyplot as plt\n",
    "import seaborn as sns"
   ]
  },
  {
   "cell_type": "code",
   "execution_count": 107,
   "id": "053315bd",
   "metadata": {},
   "outputs": [],
   "source": [
    "class myLinearRegression:\n",
    "    \n",
    "    def __init__(self):\n",
    "        self.m = None\n",
    "        self.b = None\n",
    "    \n",
    "    def fit(self,X_train,y_train):\n",
    "        \n",
    "        num = 0\n",
    "        denom = 0\n",
    "        \n",
    "        for i in range(X_train.shape[0]):\n",
    "            num += (X_train[i] - np.mean(X_train))*(y_train[i] - np.mean(y_train))\n",
    "            denom += (X_train[i] - np.mean(X_train))**2\n",
    "            \n",
    "        self.m = num/denom    \n",
    "        self.b = (np.mean(y_train) - self.m * np.mean(X_train))\n",
    "        print(f\"slope of best fit line : {self.m}\")\n",
    "        print(f\"Intercept of best fit line : {self.b}\")\n",
    "        \n",
    "    def predict(self,X_test):\n",
    "        \n",
    "        return self.m*X_test + self.b\n",
    "        \n",
    "        \n",
    "        "
   ]
  },
  {
   "cell_type": "code",
   "execution_count": 108,
   "id": "d6c87cc3",
   "metadata": {},
   "outputs": [],
   "source": [
    "import numpy as np\n",
    "import pandas as pd"
   ]
  },
  {
   "cell_type": "code",
   "execution_count": 109,
   "id": "1793c86d",
   "metadata": {},
   "outputs": [
    {
     "data": {
      "text/html": [
       "<div>\n",
       "<style scoped>\n",
       "    .dataframe tbody tr th:only-of-type {\n",
       "        vertical-align: middle;\n",
       "    }\n",
       "\n",
       "    .dataframe tbody tr th {\n",
       "        vertical-align: top;\n",
       "    }\n",
       "\n",
       "    .dataframe thead th {\n",
       "        text-align: right;\n",
       "    }\n",
       "</style>\n",
       "<table border=\"1\" class=\"dataframe\">\n",
       "  <thead>\n",
       "    <tr style=\"text-align: right;\">\n",
       "      <th></th>\n",
       "      <th>cgpa</th>\n",
       "      <th>package</th>\n",
       "    </tr>\n",
       "  </thead>\n",
       "  <tbody>\n",
       "    <tr>\n",
       "      <th>0</th>\n",
       "      <td>6.89</td>\n",
       "      <td>3.26</td>\n",
       "    </tr>\n",
       "    <tr>\n",
       "      <th>1</th>\n",
       "      <td>5.12</td>\n",
       "      <td>1.98</td>\n",
       "    </tr>\n",
       "    <tr>\n",
       "      <th>2</th>\n",
       "      <td>7.82</td>\n",
       "      <td>3.25</td>\n",
       "    </tr>\n",
       "    <tr>\n",
       "      <th>3</th>\n",
       "      <td>7.42</td>\n",
       "      <td>3.67</td>\n",
       "    </tr>\n",
       "    <tr>\n",
       "      <th>4</th>\n",
       "      <td>6.94</td>\n",
       "      <td>3.57</td>\n",
       "    </tr>\n",
       "    <tr>\n",
       "      <th>5</th>\n",
       "      <td>7.89</td>\n",
       "      <td>2.99</td>\n",
       "    </tr>\n",
       "    <tr>\n",
       "      <th>6</th>\n",
       "      <td>6.73</td>\n",
       "      <td>2.60</td>\n",
       "    </tr>\n",
       "    <tr>\n",
       "      <th>7</th>\n",
       "      <td>6.75</td>\n",
       "      <td>2.48</td>\n",
       "    </tr>\n",
       "    <tr>\n",
       "      <th>8</th>\n",
       "      <td>6.09</td>\n",
       "      <td>2.31</td>\n",
       "    </tr>\n",
       "    <tr>\n",
       "      <th>9</th>\n",
       "      <td>8.31</td>\n",
       "      <td>3.51</td>\n",
       "    </tr>\n",
       "  </tbody>\n",
       "</table>\n",
       "</div>"
      ],
      "text/plain": [
       "   cgpa  package\n",
       "0  6.89     3.26\n",
       "1  5.12     1.98\n",
       "2  7.82     3.25\n",
       "3  7.42     3.67\n",
       "4  6.94     3.57\n",
       "5  7.89     2.99\n",
       "6  6.73     2.60\n",
       "7  6.75     2.48\n",
       "8  6.09     2.31\n",
       "9  8.31     3.51"
      ]
     },
     "execution_count": 109,
     "metadata": {},
     "output_type": "execute_result"
    }
   ],
   "source": [
    "df = pd.read_excel('Book2.xlsx')\n",
    "df.head(10)"
   ]
  },
  {
   "cell_type": "code",
   "execution_count": 140,
   "id": "eeedd148",
   "metadata": {},
   "outputs": [
    {
     "data": {
      "text/plain": [
       "array([[6.89],\n",
       "       [5.12],\n",
       "       [7.82],\n",
       "       [7.42],\n",
       "       [6.94],\n",
       "       [7.89],\n",
       "       [6.73],\n",
       "       [6.75],\n",
       "       [6.09],\n",
       "       [8.31],\n",
       "       [5.32],\n",
       "       [6.61],\n",
       "       [8.94],\n",
       "       [6.93],\n",
       "       [7.73],\n",
       "       [7.25]])"
      ]
     },
     "execution_count": 140,
     "metadata": {},
     "output_type": "execute_result"
    }
   ],
   "source": [
    "X = df.iloc[:,0:1].values\n",
    "X"
   ]
  },
  {
   "cell_type": "code",
   "execution_count": 141,
   "id": "736264a4",
   "metadata": {},
   "outputs": [
    {
     "data": {
      "text/plain": [
       "array([[3.26],\n",
       "       [1.98],\n",
       "       [3.25],\n",
       "       [3.67],\n",
       "       [3.57],\n",
       "       [2.99],\n",
       "       [2.6 ],\n",
       "       [2.48],\n",
       "       [2.31],\n",
       "       [3.51],\n",
       "       [1.86],\n",
       "       [2.6 ],\n",
       "       [3.65],\n",
       "       [2.89],\n",
       "       [3.42],\n",
       "       [3.23]])"
      ]
     },
     "execution_count": 141,
     "metadata": {},
     "output_type": "execute_result"
    }
   ],
   "source": [
    "y=df.iloc[:,1:2].values\n",
    "y"
   ]
  },
  {
   "cell_type": "code",
   "execution_count": 142,
   "id": "4c5816b0",
   "metadata": {},
   "outputs": [
    {
     "data": {
      "text/plain": [
       "numpy.ndarray"
      ]
     },
     "execution_count": 142,
     "metadata": {},
     "output_type": "execute_result"
    }
   ],
   "source": [
    "type(y)"
   ]
  },
  {
   "cell_type": "code",
   "execution_count": 143,
   "id": "a2ab1e0e",
   "metadata": {},
   "outputs": [],
   "source": [
    "from sklearn.model_selection import train_test_split\n",
    "from sklearn.linear_model import LinearRegression"
   ]
  },
  {
   "cell_type": "code",
   "execution_count": 144,
   "id": "67a579f2",
   "metadata": {},
   "outputs": [],
   "source": [
    "X_train,X_test,y_train,y_test = train_test_split(X,y,test_size=0.4,random_state=2)"
   ]
  },
  {
   "cell_type": "code",
   "execution_count": 156,
   "id": "8fecf967",
   "metadata": {},
   "outputs": [
    {
     "data": {
      "text/plain": [
       "array([[5.32],\n",
       "       [6.75],\n",
       "       [7.73],\n",
       "       [7.82],\n",
       "       [6.61],\n",
       "       [6.73],\n",
       "       [7.25],\n",
       "       [6.93],\n",
       "       [6.09]])"
      ]
     },
     "execution_count": 156,
     "metadata": {},
     "output_type": "execute_result"
    }
   ],
   "source": [
    "X_train"
   ]
  },
  {
   "cell_type": "code",
   "execution_count": 155,
   "id": "acc3867a",
   "metadata": {
    "scrolled": true
   },
   "outputs": [
    {
     "name": "stdout",
     "output_type": "stream",
     "text": [
      "slope of best fit line : [0.62718847]\n",
      "Intercept of best fit line : [-1.52919446]\n"
     ]
    },
    {
     "data": {
      "text/plain": [
       "[<matplotlib.lines.Line2D at 0x12add837820>]"
      ]
     },
     "execution_count": 155,
     "metadata": {},
     "output_type": "execute_result"
    },
    {
     "data": {
      "image/png": "[encoded data removed]",
      "text/plain": [
       "<Figure size 432x288 with 1 Axes>"
      ]
     },
     "metadata": {
      "needs_background": "light"
     },
     "output_type": "display_data"
    }
   ],
   "source": [
    "myLR = myLinearRegression()\n",
    "myLR.fit(X_train,y_train)\n",
    "plt.scatter(df['cgpa'],df['package'])\n",
    "plt.plot(X_test,myLR.predict(X_test),color='red')\n",
    "plt.plot(X_test,sklr.predict(X_test),color='blue')"
   ]
  },
  {
   "cell_type": "code",
   "execution_count": 139,
   "id": "fb56461c",
   "metadata": {},
   "outputs": [
    {
     "data": {
      "text/plain": [
       "array([4.07787048, 2.82349354, 3.41932258, 2.79213411, 3.68274174,\n",
       "       3.124544  , 1.68201052])"
      ]
     },
     "execution_count": 139,
     "metadata": {},
     "output_type": "execute_result"
    }
   ],
   "source": [
    "myLR.predict(X_test)"
   ]
  },
  {
   "cell_type": "code",
   "execution_count": 133,
   "id": "0e2ac620",
   "metadata": {},
   "outputs": [
    {
     "data": {
      "text/plain": [
       "array([3.65, 3.57, 2.99, 3.26, 3.51, 3.67, 1.98])"
      ]
     },
     "execution_count": 133,
     "metadata": {},
     "output_type": "execute_result"
    }
   ],
   "source": [
    "y_test"
   ]
  },
  {
   "cell_type": "code",
   "execution_count": 132,
   "id": "ef3843e8",
   "metadata": {},
   "outputs": [
    {
     "data": {
      "text/plain": [
       "(7,)"
      ]
     },
     "execution_count": 132,
     "metadata": {},
     "output_type": "execute_result"
    }
   ],
   "source": [
    "sklr = LinearRegression()\n",
    "y_test.shape"
   ]
  },
  {
   "cell_type": "code",
   "execution_count": 148,
   "id": "6aaa1230",
   "metadata": {},
   "outputs": [
    {
     "data": {
      "text/plain": [
       "LinearRegression()"
      ]
     },
     "execution_count": 148,
     "metadata": {},
     "output_type": "execute_result"
    }
   ],
   "source": [
    "sklr.fit(X_train,y_train)"
   ]
  },
  {
   "cell_type": "code",
   "execution_count": 151,
   "id": "01b3dc3c",
   "metadata": {},
   "outputs": [
    {
     "data": {
      "text/plain": [
       "array([[4.07787048],\n",
       "       [2.82349354],\n",
       "       [3.41932258],\n",
       "       [2.79213411],\n",
       "       [3.68274174],\n",
       "       [3.124544  ],\n",
       "       [1.68201052]])"
      ]
     },
     "execution_count": 151,
     "metadata": {},
     "output_type": "execute_result"
    }
   ],
   "source": [
    "sklr.predict(X_test)"
   ]
  },
  {
   "cell_type": "code",
   "execution_count": 150,
   "id": "00e0c55f",
   "metadata": {},
   "outputs": [
    {
     "data": {
      "text/plain": [
       "array([[0.62718847]])"
      ]
     },
     "execution_count": 150,
     "metadata": {},
     "output_type": "execute_result"
    }
   ],
   "source": [
    "sklr.coef_"
   ]
  },
  {
   "cell_type": "code",
   "execution_count": null,
   "id": "8b163fdf",
   "metadata": {},
   "outputs": [],
   "source": []
  }
 ],
 "metadata": {
  "kernelspec": {
   "display_name": "Python 3 (ipykernel)",
   "language": "python",
   "name": "python3"
  },
  "language_info": {
   "codemirror_mode": {
    "name": "ipython",
    "version": 3
   },
   "file_extension": ".py",
   "mimetype": "text/x-python",
   "name": "python",
   "nbconvert_exporter": "python",
   "pygments_lexer": "ipython3",
   "version": "3.9.12"
  }
 },
 "nbformat": 4,
 "nbformat_minor": 5
}
