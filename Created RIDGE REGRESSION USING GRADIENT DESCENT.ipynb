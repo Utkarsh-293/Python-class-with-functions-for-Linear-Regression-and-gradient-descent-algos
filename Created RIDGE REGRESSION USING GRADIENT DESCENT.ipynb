{
 "cells": [
  {
   "cell_type": "markdown",
   "id": "2640f07d",
   "metadata": {},
   "source": [
    "# RIDGE REGRESSION USING GRADIENT DESCENT"
   ]
  },
  {
   "cell_type": "code",
   "execution_count": 290,
   "id": "255062d3",
   "metadata": {},
   "outputs": [],
   "source": [
    "import numpy as np\n",
    "import pandas as pd\n",
    "import time\n",
    "import matplotlib.pyplot as plt\n",
    "from sklearn.linear_model import LinearRegression,Ridge,SGDRegressor\n",
    "from sklearn.model_selection import train_test_split\n",
    "from sklearn.datasets import load_diabetes\n",
    "from sklearn.metrics import r2_score,mean_squared_error\n",
    "%matplotlib inline"
   ]
  },
  {
   "cell_type": "code",
   "execution_count": 291,
   "id": "531e1a34",
   "metadata": {},
   "outputs": [
    {
     "data": {
      "text/html": [
       "<div>\n",
       "<style scoped>\n",
       "    .dataframe tbody tr th:only-of-type {\n",
       "        vertical-align: middle;\n",
       "    }\n",
       "\n",
       "    .dataframe tbody tr th {\n",
       "        vertical-align: top;\n",
       "    }\n",
       "\n",
       "    .dataframe thead th {\n",
       "        text-align: right;\n",
       "    }\n",
       "</style>\n",
       "<table border=\"1\" class=\"dataframe\">\n",
       "  <thead>\n",
       "    <tr style=\"text-align: right;\">\n",
       "      <th></th>\n",
       "      <th>age</th>\n",
       "      <th>sex</th>\n",
       "      <th>bmi</th>\n",
       "      <th>bp</th>\n",
       "      <th>s1</th>\n",
       "      <th>s2</th>\n",
       "      <th>s3</th>\n",
       "      <th>s4</th>\n",
       "      <th>s5</th>\n",
       "      <th>s6</th>\n",
       "    </tr>\n",
       "  </thead>\n",
       "  <tbody>\n",
       "    <tr>\n",
       "      <th>0</th>\n",
       "      <td>0.038076</td>\n",
       "      <td>0.050680</td>\n",
       "      <td>0.061696</td>\n",
       "      <td>0.021872</td>\n",
       "      <td>-0.044223</td>\n",
       "      <td>-0.034821</td>\n",
       "      <td>-0.043401</td>\n",
       "      <td>-0.002592</td>\n",
       "      <td>0.019908</td>\n",
       "      <td>-0.017646</td>\n",
       "    </tr>\n",
       "    <tr>\n",
       "      <th>1</th>\n",
       "      <td>-0.001882</td>\n",
       "      <td>-0.044642</td>\n",
       "      <td>-0.051474</td>\n",
       "      <td>-0.026328</td>\n",
       "      <td>-0.008449</td>\n",
       "      <td>-0.019163</td>\n",
       "      <td>0.074412</td>\n",
       "      <td>-0.039493</td>\n",
       "      <td>-0.068330</td>\n",
       "      <td>-0.092204</td>\n",
       "    </tr>\n",
       "    <tr>\n",
       "      <th>2</th>\n",
       "      <td>0.085299</td>\n",
       "      <td>0.050680</td>\n",
       "      <td>0.044451</td>\n",
       "      <td>-0.005671</td>\n",
       "      <td>-0.045599</td>\n",
       "      <td>-0.034194</td>\n",
       "      <td>-0.032356</td>\n",
       "      <td>-0.002592</td>\n",
       "      <td>0.002864</td>\n",
       "      <td>-0.025930</td>\n",
       "    </tr>\n",
       "    <tr>\n",
       "      <th>3</th>\n",
       "      <td>-0.089063</td>\n",
       "      <td>-0.044642</td>\n",
       "      <td>-0.011595</td>\n",
       "      <td>-0.036656</td>\n",
       "      <td>0.012191</td>\n",
       "      <td>0.024991</td>\n",
       "      <td>-0.036038</td>\n",
       "      <td>0.034309</td>\n",
       "      <td>0.022692</td>\n",
       "      <td>-0.009362</td>\n",
       "    </tr>\n",
       "    <tr>\n",
       "      <th>4</th>\n",
       "      <td>0.005383</td>\n",
       "      <td>-0.044642</td>\n",
       "      <td>-0.036385</td>\n",
       "      <td>0.021872</td>\n",
       "      <td>0.003935</td>\n",
       "      <td>0.015596</td>\n",
       "      <td>0.008142</td>\n",
       "      <td>-0.002592</td>\n",
       "      <td>-0.031991</td>\n",
       "      <td>-0.046641</td>\n",
       "    </tr>\n",
       "    <tr>\n",
       "      <th>...</th>\n",
       "      <td>...</td>\n",
       "      <td>...</td>\n",
       "      <td>...</td>\n",
       "      <td>...</td>\n",
       "      <td>...</td>\n",
       "      <td>...</td>\n",
       "      <td>...</td>\n",
       "      <td>...</td>\n",
       "      <td>...</td>\n",
       "      <td>...</td>\n",
       "    </tr>\n",
       "    <tr>\n",
       "      <th>437</th>\n",
       "      <td>0.041708</td>\n",
       "      <td>0.050680</td>\n",
       "      <td>0.019662</td>\n",
       "      <td>0.059744</td>\n",
       "      <td>-0.005697</td>\n",
       "      <td>-0.002566</td>\n",
       "      <td>-0.028674</td>\n",
       "      <td>-0.002592</td>\n",
       "      <td>0.031193</td>\n",
       "      <td>0.007207</td>\n",
       "    </tr>\n",
       "    <tr>\n",
       "      <th>438</th>\n",
       "      <td>-0.005515</td>\n",
       "      <td>0.050680</td>\n",
       "      <td>-0.015906</td>\n",
       "      <td>-0.067642</td>\n",
       "      <td>0.049341</td>\n",
       "      <td>0.079165</td>\n",
       "      <td>-0.028674</td>\n",
       "      <td>0.034309</td>\n",
       "      <td>-0.018118</td>\n",
       "      <td>0.044485</td>\n",
       "    </tr>\n",
       "    <tr>\n",
       "      <th>439</th>\n",
       "      <td>0.041708</td>\n",
       "      <td>0.050680</td>\n",
       "      <td>-0.015906</td>\n",
       "      <td>0.017282</td>\n",
       "      <td>-0.037344</td>\n",
       "      <td>-0.013840</td>\n",
       "      <td>-0.024993</td>\n",
       "      <td>-0.011080</td>\n",
       "      <td>-0.046879</td>\n",
       "      <td>0.015491</td>\n",
       "    </tr>\n",
       "    <tr>\n",
       "      <th>440</th>\n",
       "      <td>-0.045472</td>\n",
       "      <td>-0.044642</td>\n",
       "      <td>0.039062</td>\n",
       "      <td>0.001215</td>\n",
       "      <td>0.016318</td>\n",
       "      <td>0.015283</td>\n",
       "      <td>-0.028674</td>\n",
       "      <td>0.026560</td>\n",
       "      <td>0.044528</td>\n",
       "      <td>-0.025930</td>\n",
       "    </tr>\n",
       "    <tr>\n",
       "      <th>441</th>\n",
       "      <td>-0.045472</td>\n",
       "      <td>-0.044642</td>\n",
       "      <td>-0.073030</td>\n",
       "      <td>-0.081414</td>\n",
       "      <td>0.083740</td>\n",
       "      <td>0.027809</td>\n",
       "      <td>0.173816</td>\n",
       "      <td>-0.039493</td>\n",
       "      <td>-0.004220</td>\n",
       "      <td>0.003064</td>\n",
       "    </tr>\n",
       "  </tbody>\n",
       "</table>\n",
       "<p>442 rows × 10 columns</p>\n",
       "</div>"
      ],
      "text/plain": [
       "          age       sex       bmi        bp        s1        s2        s3  \\\n",
       "0    0.038076  0.050680  0.061696  0.021872 -0.044223 -0.034821 -0.043401   \n",
       "1   -0.001882 -0.044642 -0.051474 -0.026328 -0.008449 -0.019163  0.074412   \n",
       "2    0.085299  0.050680  0.044451 -0.005671 -0.045599 -0.034194 -0.032356   \n",
       "3   -0.089063 -0.044642 -0.011595 -0.036656  0.012191  0.024991 -0.036038   \n",
       "4    0.005383 -0.044642 -0.036385  0.021872  0.003935  0.015596  0.008142   \n",
       "..        ...       ...       ...       ...       ...       ...       ...   \n",
       "437  0.041708  0.050680  0.019662  0.059744 -0.005697 -0.002566 -0.028674   \n",
       "438 -0.005515  0.050680 -0.015906 -0.067642  0.049341  0.079165 -0.028674   \n",
       "439  0.041708  0.050680 -0.015906  0.017282 -0.037344 -0.013840 -0.024993   \n",
       "440 -0.045472 -0.044642  0.039062  0.001215  0.016318  0.015283 -0.028674   \n",
       "441 -0.045472 -0.044642 -0.073030 -0.081414  0.083740  0.027809  0.173816   \n",
       "\n",
       "           s4        s5        s6  \n",
       "0   -0.002592  0.019908 -0.017646  \n",
       "1   -0.039493 -0.068330 -0.092204  \n",
       "2   -0.002592  0.002864 -0.025930  \n",
       "3    0.034309  0.022692 -0.009362  \n",
       "4   -0.002592 -0.031991 -0.046641  \n",
       "..        ...       ...       ...  \n",
       "437 -0.002592  0.031193  0.007207  \n",
       "438  0.034309 -0.018118  0.044485  \n",
       "439 -0.011080 -0.046879  0.015491  \n",
       "440  0.026560  0.044528 -0.025930  \n",
       "441 -0.039493 -0.004220  0.003064  \n",
       "\n",
       "[442 rows x 10 columns]"
      ]
     },
     "execution_count": 291,
     "metadata": {},
     "output_type": "execute_result"
    }
   ],
   "source": [
    "X,y = load_diabetes(return_X_y=True)\n",
    "data = load_diabetes()\n",
    "df = pd.DataFrame(data = data['data'],columns=data['feature_names'])\n",
    "df"
   ]
  },
  {
   "cell_type": "code",
   "execution_count": 292,
   "id": "17b024de",
   "metadata": {},
   "outputs": [
    {
     "data": {
      "text/plain": [
       "(353, 10)"
      ]
     },
     "execution_count": 292,
     "metadata": {},
     "output_type": "execute_result"
    }
   ],
   "source": [
    "X_train,X_test,y_train,y_test = train_test_split(X,y,test_size=0.2,random_state=4)\n",
    "X_train.shape"
   ]
  },
  {
   "cell_type": "code",
   "execution_count": 293,
   "id": "80a9434b",
   "metadata": {},
   "outputs": [
    {
     "data": {
      "text/plain": [
       "LinearRegression()"
      ]
     },
     "execution_count": 293,
     "metadata": {},
     "output_type": "execute_result"
    }
   ],
   "source": [
    "LR = LinearRegression()\n",
    "LR.fit(X_train,y_train)"
   ]
  },
  {
   "cell_type": "code",
   "execution_count": 294,
   "id": "7f007983",
   "metadata": {},
   "outputs": [
    {
     "name": "stdout",
     "output_type": "stream",
     "text": [
      "0.4610882915687333\n"
     ]
    }
   ],
   "source": [
    "y_pred = LR.predict(X_test)\n",
    "print(r2_score(y_test,y_pred))"
   ]
  },
  {
   "cell_type": "code",
   "execution_count": 299,
   "id": "dc22f6d3",
   "metadata": {},
   "outputs": [],
   "source": [
    "sgd = SGDRegressor(penalty='l2',loss='squared_error',max_iter=500,eta0=0.01,learning_rate='constant',alpha=0.001)"
   ]
  },
  {
   "cell_type": "code",
   "execution_count": 300,
   "id": "6e420b9c",
   "metadata": {
    "scrolled": true
   },
   "outputs": [
    {
     "name": "stdout",
     "output_type": "stream",
     "text": [
      "0.4006850500255137\n"
     ]
    }
   ],
   "source": [
    "sgd.fit(X_train,y_train)\n",
    "y_pred1=sgd.predict(X_test)\n",
    "print(r2_score(y_test,y_pred1))"
   ]
  },
  {
   "cell_type": "code",
   "execution_count": 301,
   "id": "a3b8de97",
   "metadata": {},
   "outputs": [],
   "source": [
    "rg = Ridge(alpha=0.01,solver='sparse_cg',max_iter=500)\n",
    "rg.fit(X_train,y_train)\n",
    "y_pred2 = rg.predict(X_test)"
   ]
  },
  {
   "cell_type": "code",
   "execution_count": 302,
   "id": "0d593a43",
   "metadata": {},
   "outputs": [
    {
     "name": "stdout",
     "output_type": "stream",
     "text": [
      "0.46667570504277\n",
      "[  38.91549486 -282.82269958  485.69884836  362.39408853 -419.21696846\n",
      "  167.09674554  -17.39763348  206.06531593  593.11906588   37.69682714] 150.93856057634986\n"
     ]
    }
   ],
   "source": [
    "print(r2_score(y_test,y_pred2))\n",
    "print(rg.coef_,rg.intercept_)\n",
    "W_list = []"
   ]
  },
  {
   "cell_type": "code",
   "execution_count": 303,
   "id": "92a86bed",
   "metadata": {},
   "outputs": [
    {
     "name": "stdout",
     "output_type": "stream",
     "text": [
      "[]\n"
     ]
    }
   ],
   "source": [
    "print(W_list)"
   ]
  },
  {
   "cell_type": "code",
   "execution_count": 304,
   "id": "dba9cce2",
   "metadata": {},
   "outputs": [],
   "source": [
    "class Ridge_BatchGD:\n",
    "    \n",
    "    def __init__(self,alpha=0.001,lr=0.005,epochs=500):\n",
    "        self.alpha=alpha\n",
    "        self.lr=lr\n",
    "        self.epochs=epochs\n",
    "        self.coefs_=None\n",
    "        \n",
    "    \n",
    "    def fit(self,X_train,y_train):\n",
    "        global W\n",
    "        X_train = np.insert(X_train,0,1,axis=1)\n",
    "        self.coefs_ = np.ones(X_train.shape[1])\n",
    "#         W[0] = 0\n",
    "#         print(W.shape)\n",
    "#         print(f\"Weights: {W}\")\n",
    "        \n",
    "        for i in range(self.epochs):\n",
    "            loss_matrix_diff = np.dot(X_train.T,X_train).dot(self.coefs_) - np.dot(X_train.T,y_train) + self.alpha*self.coefs_\n",
    "            self.coefs_ = self.coefs_ - self.lr*loss_matrix_diff\n",
    "        \n",
    "        \n",
    "#         print(f\"Weights: {W[1:]}\")\n",
    "#         print(\"Intercept\",W[0])\n",
    "        \n",
    "    def predict(self,X_test):\n",
    "        X_test = np.insert(X_test,0,1,axis=1)\n",
    "        return np.dot(X_test,self.coefs_) \n",
    "        "
   ]
  },
  {
   "cell_type": "code",
   "execution_count": 307,
   "id": "dce75fd5",
   "metadata": {},
   "outputs": [
    {
     "name": "stdout",
     "output_type": "stream",
     "text": [
      "0.4737962589781257\n",
      "[ 150.86972581   46.65020467 -221.3769419   452.11770792  325.54634189\n",
      "  -29.09580229  -96.47601592 -190.90001212  146.32889272  400.80774773\n",
      "   95.08954261]\n"
     ]
    }
   ],
   "source": [
    "r = Ridge_BatchGD()\n",
    "r.fit(X_train,y_train)\n",
    "b = r.predict(X_test)\n",
    "print(r2_score(y_test,b))\n",
    "print(r.coefs_)"
   ]
  },
  {
   "cell_type": "code",
   "execution_count": 305,
   "id": "7f4c46f4",
   "metadata": {},
   "outputs": [
    {
     "name": "stdout",
     "output_type": "stream",
     "text": [
      "[]\n"
     ]
    }
   ],
   "source": [
    "W_list=[]\n",
    "print(W_list)"
   ]
  },
  {
   "cell_type": "code",
   "execution_count": 312,
   "id": "e6fa62f2",
   "metadata": {},
   "outputs": [
    {
     "name": "stdout",
     "output_type": "stream",
     "text": [
      "0 [ 151.80734971   71.92422885  -51.85356354  294.43409385  226.38144816\n",
      "   49.55069546   13.33902951 -165.48853552  163.87170986  276.73488728\n",
      "  137.51166601]\n",
      "0.4186414074870516\n",
      "1 [ 151.48012864   61.12797852  -38.42562657  241.25401041  186.36224736\n",
      "   44.60451133   15.46354116 -138.03402195  138.15556578  228.22652739\n",
      "  115.72259863]\n",
      "0.39340730659158873\n",
      "2 [ 151.44652117   60.18920131  -37.30922317  236.71030415  182.93630337\n",
      "   44.1507365    15.61012199 -135.66569644  135.92808603  224.07018651\n",
      "  113.83710907]\n",
      "0.3903791957211813\n",
      "3 [ 151.44277844   60.08630284  -37.187403    236.21313383  182.56136547\n",
      "   44.10074647   15.62578132 -135.4063141   135.68402748  223.61527398\n",
      "  113.63054126]\n",
      "0.3900393619948832\n",
      "4 [ 151.44240407   60.07602833  -37.17524514  236.16350033  182.52393388\n",
      "   44.09575216   15.62734046 -135.38041681  135.65965903  223.56985777\n",
      "  113.60991636]\n",
      "0.39000534350086213\n",
      "5 [ 151.44090644   60.03495813  -37.12665752  235.96511796  182.37432042\n",
      "   44.07578345   15.63356471 -135.27690195  135.56225311  223.38832909\n",
      "  113.5274746 ]\n",
      "0.3898692062021609\n",
      "6 [ 151.43903402   59.98368297  -37.0660215   235.71748072  182.18755731\n",
      "   44.05084172   15.64131735 -135.1476754   135.44064831  223.16172433\n",
      "  113.42455243]\n",
      "0.38969889290109994\n",
      "7 [ 151.40525959   59.07249092  -35.99305163  231.32399469  178.87347028\n",
      "   43.60550896   15.77568975 -132.85297854  133.28043502  219.14032311\n",
      "  111.59638764]\n",
      "0.3866078039467966\n",
      "8 [ 151.0610988    51.0629376   -26.96497285  193.33858215  150.16693762\n",
      "   39.50604595   16.65746882 -112.83897392  114.36129724  184.27815645\n",
      "   95.60013125]\n",
      "0.35429350569153795\n",
      "9 [147.43103579  19.8811287   -2.38822946  62.06747339  49.57266334\n",
      "  18.80966626  12.32098563 -39.54134254  42.6279225   61.3728301\n",
      "  35.36881569]\n",
      "0.15124405612040182\n",
      "10 [ 1.18157347e+02  2.74875138e+00  9.56456936e-02  7.44737524e+00\n",
      "  6.11210893e+00  2.62987502e+00  1.89331225e+00 -4.95527804e+00\n",
      "  5.44288990e+00  7.45266372e+00  4.67471823e+00]\n",
      "-0.21498121187676444\n"
     ]
    }
   ],
   "source": [
    "j = 0\n",
    "for k in [-1, -0.1, -0.01, 0, 0.001,0.005, 0.01, 0.1, 1, 10, 100]:\n",
    "    \n",
    "    rbgd = Ridge_BatchGD(lr=0.001,alpha=k)\n",
    "    rbgd.fit(X_train,y_train)\n",
    "    y_pred4 = rbgd.predict(X_test)\n",
    "    print(j,rbgd.coefs_)\n",
    "    W_list.append(rbgd.coefs_.tolist())\n",
    "    print(r2_score(y_test,y_pred4))\n",
    "#     plt.figure(figsize=((10,9)))\n",
    "#     plt.bar(data['feature_names'],W_list[j][1:],label=f\"alpha={k}\")\n",
    "#     plt.legend()\n",
    "#     plt.title()\n",
    "    j = j + 1"
   ]
  },
  {
   "cell_type": "code",
   "execution_count": 329,
   "id": "f0ab923b",
   "metadata": {},
   "outputs": [
    {
     "data": {
      "text/plain": [
       "Float64Index([-1.0, -0.1, -0.01, 0.0, 0.001, 0.005, 0.01, 0.1, 1.0, 10.0,\n",
       "              100.0],\n",
       "             dtype='float64')"
      ]
     },
     "execution_count": 329,
     "metadata": {},
     "output_type": "execute_result"
    }
   ],
   "source": [
    "coeff = pd.DataFrame(data=0,columns=data['feature_names'],index=[-1, -0.1, -0.01, 0, 0.001,0.005, 0.01, 0.1, 1, 10, 100])\n",
    "\n",
    "coeff.insert(0, 'intercept', 0, allow_duplicates = False)\n",
    "coeff.index"
   ]
  },
  {
   "cell_type": "code",
   "execution_count": 331,
   "id": "7a732790",
   "metadata": {
    "scrolled": true
   },
   "outputs": [
    {
     "data": {
      "text/html": [
       "<div>\n",
       "<style scoped>\n",
       "    .dataframe tbody tr th:only-of-type {\n",
       "        vertical-align: middle;\n",
       "    }\n",
       "\n",
       "    .dataframe tbody tr th {\n",
       "        vertical-align: top;\n",
       "    }\n",
       "\n",
       "    .dataframe thead th {\n",
       "        text-align: right;\n",
       "    }\n",
       "</style>\n",
       "<table border=\"1\" class=\"dataframe\">\n",
       "  <thead>\n",
       "    <tr style=\"text-align: right;\">\n",
       "      <th></th>\n",
       "      <th>intercept</th>\n",
       "      <th>age</th>\n",
       "      <th>sex</th>\n",
       "      <th>bmi</th>\n",
       "      <th>bp</th>\n",
       "      <th>s1</th>\n",
       "      <th>s2</th>\n",
       "      <th>s3</th>\n",
       "      <th>s4</th>\n",
       "      <th>s5</th>\n",
       "      <th>s6</th>\n",
       "    </tr>\n",
       "  </thead>\n",
       "  <tbody>\n",
       "    <tr>\n",
       "      <th>-1.000</th>\n",
       "      <td>151.807350</td>\n",
       "      <td>71.924229</td>\n",
       "      <td>-51.853564</td>\n",
       "      <td>294.434094</td>\n",
       "      <td>226.381448</td>\n",
       "      <td>49.550695</td>\n",
       "      <td>13.339030</td>\n",
       "      <td>-165.488536</td>\n",
       "      <td>163.871710</td>\n",
       "      <td>276.734887</td>\n",
       "      <td>137.511666</td>\n",
       "    </tr>\n",
       "    <tr>\n",
       "      <th>-0.100</th>\n",
       "      <td>151.480129</td>\n",
       "      <td>61.127979</td>\n",
       "      <td>-38.425627</td>\n",
       "      <td>241.254010</td>\n",
       "      <td>186.362247</td>\n",
       "      <td>44.604511</td>\n",
       "      <td>15.463541</td>\n",
       "      <td>-138.034022</td>\n",
       "      <td>138.155566</td>\n",
       "      <td>228.226527</td>\n",
       "      <td>115.722599</td>\n",
       "    </tr>\n",
       "    <tr>\n",
       "      <th>-0.010</th>\n",
       "      <td>151.446521</td>\n",
       "      <td>60.189201</td>\n",
       "      <td>-37.309223</td>\n",
       "      <td>236.710304</td>\n",
       "      <td>182.936303</td>\n",
       "      <td>44.150736</td>\n",
       "      <td>15.610122</td>\n",
       "      <td>-135.665696</td>\n",
       "      <td>135.928086</td>\n",
       "      <td>224.070187</td>\n",
       "      <td>113.837109</td>\n",
       "    </tr>\n",
       "    <tr>\n",
       "      <th>0.000</th>\n",
       "      <td>151.442778</td>\n",
       "      <td>60.086303</td>\n",
       "      <td>-37.187403</td>\n",
       "      <td>236.213134</td>\n",
       "      <td>182.561365</td>\n",
       "      <td>44.100746</td>\n",
       "      <td>15.625781</td>\n",
       "      <td>-135.406314</td>\n",
       "      <td>135.684027</td>\n",
       "      <td>223.615274</td>\n",
       "      <td>113.630541</td>\n",
       "    </tr>\n",
       "    <tr>\n",
       "      <th>0.001</th>\n",
       "      <td>151.442404</td>\n",
       "      <td>60.076028</td>\n",
       "      <td>-37.175245</td>\n",
       "      <td>236.163500</td>\n",
       "      <td>182.523934</td>\n",
       "      <td>44.095752</td>\n",
       "      <td>15.627340</td>\n",
       "      <td>-135.380417</td>\n",
       "      <td>135.659659</td>\n",
       "      <td>223.569858</td>\n",
       "      <td>113.609916</td>\n",
       "    </tr>\n",
       "    <tr>\n",
       "      <th>0.005</th>\n",
       "      <td>151.440906</td>\n",
       "      <td>60.034958</td>\n",
       "      <td>-37.126658</td>\n",
       "      <td>235.965118</td>\n",
       "      <td>182.374320</td>\n",
       "      <td>44.075783</td>\n",
       "      <td>15.633565</td>\n",
       "      <td>-135.276902</td>\n",
       "      <td>135.562253</td>\n",
       "      <td>223.388329</td>\n",
       "      <td>113.527475</td>\n",
       "    </tr>\n",
       "    <tr>\n",
       "      <th>0.010</th>\n",
       "      <td>151.439034</td>\n",
       "      <td>59.983683</td>\n",
       "      <td>-37.066021</td>\n",
       "      <td>235.717481</td>\n",
       "      <td>182.187557</td>\n",
       "      <td>44.050842</td>\n",
       "      <td>15.641317</td>\n",
       "      <td>-135.147675</td>\n",
       "      <td>135.440648</td>\n",
       "      <td>223.161724</td>\n",
       "      <td>113.424552</td>\n",
       "    </tr>\n",
       "    <tr>\n",
       "      <th>0.100</th>\n",
       "      <td>151.405260</td>\n",
       "      <td>59.072491</td>\n",
       "      <td>-35.993052</td>\n",
       "      <td>231.323995</td>\n",
       "      <td>178.873470</td>\n",
       "      <td>43.605509</td>\n",
       "      <td>15.775690</td>\n",
       "      <td>-132.852979</td>\n",
       "      <td>133.280435</td>\n",
       "      <td>219.140323</td>\n",
       "      <td>111.596388</td>\n",
       "    </tr>\n",
       "    <tr>\n",
       "      <th>1.000</th>\n",
       "      <td>151.061099</td>\n",
       "      <td>51.062938</td>\n",
       "      <td>-26.964973</td>\n",
       "      <td>193.338582</td>\n",
       "      <td>150.166938</td>\n",
       "      <td>39.506046</td>\n",
       "      <td>16.657469</td>\n",
       "      <td>-112.838974</td>\n",
       "      <td>114.361297</td>\n",
       "      <td>184.278156</td>\n",
       "      <td>95.600131</td>\n",
       "    </tr>\n",
       "    <tr>\n",
       "      <th>10.000</th>\n",
       "      <td>147.431036</td>\n",
       "      <td>19.881129</td>\n",
       "      <td>-2.388229</td>\n",
       "      <td>62.067473</td>\n",
       "      <td>49.572663</td>\n",
       "      <td>18.809666</td>\n",
       "      <td>12.320986</td>\n",
       "      <td>-39.541343</td>\n",
       "      <td>42.627922</td>\n",
       "      <td>61.372830</td>\n",
       "      <td>35.368816</td>\n",
       "    </tr>\n",
       "    <tr>\n",
       "      <th>100.000</th>\n",
       "      <td>118.157347</td>\n",
       "      <td>2.748751</td>\n",
       "      <td>0.095646</td>\n",
       "      <td>7.447375</td>\n",
       "      <td>6.112109</td>\n",
       "      <td>2.629875</td>\n",
       "      <td>1.893312</td>\n",
       "      <td>-4.955278</td>\n",
       "      <td>5.442890</td>\n",
       "      <td>7.452664</td>\n",
       "      <td>4.674718</td>\n",
       "    </tr>\n",
       "  </tbody>\n",
       "</table>\n",
       "</div>"
      ],
      "text/plain": [
       "           intercept        age        sex         bmi          bp         s1  \\\n",
       "-1.000    151.807350  71.924229 -51.853564  294.434094  226.381448  49.550695   \n",
       "-0.100    151.480129  61.127979 -38.425627  241.254010  186.362247  44.604511   \n",
       "-0.010    151.446521  60.189201 -37.309223  236.710304  182.936303  44.150736   \n",
       " 0.000    151.442778  60.086303 -37.187403  236.213134  182.561365  44.100746   \n",
       " 0.001    151.442404  60.076028 -37.175245  236.163500  182.523934  44.095752   \n",
       " 0.005    151.440906  60.034958 -37.126658  235.965118  182.374320  44.075783   \n",
       " 0.010    151.439034  59.983683 -37.066021  235.717481  182.187557  44.050842   \n",
       " 0.100    151.405260  59.072491 -35.993052  231.323995  178.873470  43.605509   \n",
       " 1.000    151.061099  51.062938 -26.964973  193.338582  150.166938  39.506046   \n",
       " 10.000   147.431036  19.881129  -2.388229   62.067473   49.572663  18.809666   \n",
       " 100.000  118.157347   2.748751   0.095646    7.447375    6.112109   2.629875   \n",
       "\n",
       "                 s2          s3          s4          s5          s6  \n",
       "-1.000    13.339030 -165.488536  163.871710  276.734887  137.511666  \n",
       "-0.100    15.463541 -138.034022  138.155566  228.226527  115.722599  \n",
       "-0.010    15.610122 -135.665696  135.928086  224.070187  113.837109  \n",
       " 0.000    15.625781 -135.406314  135.684027  223.615274  113.630541  \n",
       " 0.001    15.627340 -135.380417  135.659659  223.569858  113.609916  \n",
       " 0.005    15.633565 -135.276902  135.562253  223.388329  113.527475  \n",
       " 0.010    15.641317 -135.147675  135.440648  223.161724  113.424552  \n",
       " 0.100    15.775690 -132.852979  133.280435  219.140323  111.596388  \n",
       " 1.000    16.657469 -112.838974  114.361297  184.278156   95.600131  \n",
       " 10.000   12.320986  -39.541343   42.627922   61.372830   35.368816  \n",
       " 100.000   1.893312   -4.955278    5.442890    7.452664    4.674718  "
      ]
     },
     "execution_count": 331,
     "metadata": {},
     "output_type": "execute_result"
    }
   ],
   "source": [
    "coeff_new = pd.DataFrame(data=W_list,columns=coeff.columns,index=coeff.index)\n",
    "coeff_new.head(11)"
   ]
  },
  {
   "cell_type": "code",
   "execution_count": 354,
   "id": "c4d01ce5",
   "metadata": {},
   "outputs": [
    {
     "data": {
      "text/plain": [
       "(353, 11)"
      ]
     },
     "execution_count": 354,
     "metadata": {},
     "output_type": "execute_result"
    }
   ],
   "source": [
    "X_train_new = np.insert(X_train,0,1,axis=1)\n",
    "j=0\n",
    "X_train_new.shape\n",
    "\n"
   ]
  },
  {
   "cell_type": "code",
   "execution_count": 366,
   "id": "f7997a86",
   "metadata": {},
   "outputs": [],
   "source": [
    "loss_list=[]\n",
    "m=np.linspace(100,33000,10)"
   ]
  },
  {
   "cell_type": "code",
   "execution_count": 379,
   "id": "d4f28405",
   "metadata": {},
   "outputs": [
    {
     "name": "stdout",
     "output_type": "stream",
     "text": [
      "[122.83954048736047, 123.59158630890572, 123.67572241051302, 123.6841419259338, 123.71783061244388, 123.75996520918144, 124.52259062831695, 132.32718164917108, 178.53620054009008, 248.14990720808697]\n",
      "[122.85996525614969, 123.61135833250738, 123.69542370169756, 123.70383616324175, 123.7374966693544, 123.77959611944016, 124.54160360140044, 132.34129644535784, 178.53956208856505, 248.15118553393748]\n",
      "[122.95074200632409, 123.69923399295921, 123.78298499585107, 123.79136610683263, 123.82490136673448, 123.8668446094789, 124.6261057039937, 132.40402887285455, 178.5545023040093, 248.156866982162]\n",
      "[123.06421294404205, 123.80907856852399, 123.89243661354294, 123.90077853632123, 123.9341572384596, 123.97590522202731, 124.7317333322353, 132.4824444072254, 178.57317757331464, 248.16396879244266]\n",
      "[125.10668982296563, 125.78628092869018, 125.86256573199677, 125.87020226711613, 125.90076292951163, 125.93899624789874, 126.63303064058371, 133.89392402590113, 178.9093324208106, 248.29180137749444]\n",
      "[145.5314586122013, 145.55830453035193, 145.56385691653486, 145.56443957506502, 145.56681984003194, 145.56990650661305, 145.646003724068, 148.0087202126584, 182.2708808957704, 249.5701272280122]\n",
      "[349.7791465045579, 343.2785405469696, 342.5767687619159, 342.5068126545539, 342.22738894523496, 341.8790090937562, 335.7757345589109, 289.15668208023095, 215.8863656453684, 262.35338573319007]\n",
      "[2392.256025428124, 2320.4809007131466, 2312.7058872157268, 2311.9305434494427, 2308.8330799972655, 2304.9700349651876, 2237.07304290734, 1700.6363007559564, 552.0412131413482, 390.1859707849689]\n",
      "[22817.024814663782, 22092.50450237492, 22013.997071753834, 22006.167851398335, 21974.889990517568, 21935.880293679507, 21250.046126391633, 15815.432487513212, 3913.589688101146, 1668.5118213027572]\n"
     ]
    },
    {
     "data": {
      "text/plain": [
       "<matplotlib.legend.Legend at 0x1b3cbd72b80>"
      ]
     },
     "execution_count": 379,
     "metadata": {},
     "output_type": "execute_result"
    },
    {
     "data": {
      "image/png": "[encoded data removed]",
      "text/plain": [
       "<Figure size 432x288 with 1 Axes>"
      ]
     },
     "metadata": {
      "needs_background": "light"
     },
     "output_type": "display_data"
    }
   ],
   "source": [
    "for i in [0.0001,0.001, 0.005, 0.01, 0.1, 1, 10, 100,1000]:\n",
    "    loss_list = []\n",
    "    for j in range(X_train_new.shape[1]):\n",
    "        y_hat = np.dot(X_train_new,W_list_matrix[j].T)\n",
    "        loss_value = np.sum((y_train - y_hat)**2) + i*np.dot(W_list_matrix[j],W_list_matrix[j].T)\n",
    "        loss_list.append(loss_value/10000)\n",
    "    print(loss_list[1:]) \n",
    "#     plt.figure(figsize=(10,4))\n",
    "    plt.plot(m,loss_list,label=f\"alpha={i}\")\n",
    "plt.legend()\n"
   ]
  },
  {
   "cell_type": "code",
   "execution_count": null,
   "id": "ee24aaa8",
   "metadata": {},
   "outputs": [],
   "source": []
  },
  {
   "cell_type": "code",
   "execution_count": 352,
   "id": "5369c211",
   "metadata": {},
   "outputs": [
    {
     "data": {
      "text/plain": [
       "(353,)"
      ]
     },
     "execution_count": 352,
     "metadata": {},
     "output_type": "execute_result"
    }
   ],
   "source": [
    "c = np.dot(X_train_new,W_list_matrix[0].T)\n",
    "c.shape"
   ]
  },
  {
   "cell_type": "code",
   "execution_count": 338,
   "id": "f61ec9bd",
   "metadata": {},
   "outputs": [
    {
     "data": {
      "text/plain": [
       "(11, 11)"
      ]
     },
     "execution_count": 338,
     "metadata": {},
     "output_type": "execute_result"
    }
   ],
   "source": [
    "W_list_matrix= np.array(W_list)\n",
    "W_list_matrix.shape"
   ]
  },
  {
   "cell_type": "code",
   "execution_count": null,
   "id": "e94d38dc",
   "metadata": {},
   "outputs": [],
   "source": []
  },
  {
   "cell_type": "code",
   "execution_count": null,
   "id": "56523183",
   "metadata": {},
   "outputs": [],
   "source": []
  },
  {
   "cell_type": "code",
   "execution_count": null,
   "id": "94acfaac",
   "metadata": {},
   "outputs": [],
   "source": []
  }
 ],
 "metadata": {
  "kernelspec": {
   "display_name": "Python 3 (ipykernel)",
   "language": "python",
   "name": "python3"
  },
  "language_info": {
   "codemirror_mode": {
    "name": "ipython",
    "version": 3
   },
   "file_extension": ".py",
   "mimetype": "text/x-python",
   "name": "python",
   "nbconvert_exporter": "python",
   "pygments_lexer": "ipython3",
   "version": "3.9.12"
  }
 },
 "nbformat": 4,
 "nbformat_minor": 5
}
